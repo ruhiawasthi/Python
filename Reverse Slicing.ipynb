{
 "cells": [
  {
   "cell_type": "code",
   "execution_count": 5,
   "metadata": {},
   "outputs": [
    {
     "name": "stdout",
     "output_type": "stream",
     "text": [
      "The original string is : Python\n",
      "The reversed sliced string is : htyP\n"
     ]
    }
   ],
   "source": [
    "\n",
    "# Python3 code to demonstrate working of \n",
    "# Reverse Slicing string  \n",
    "# Using join() + reversed() \n",
    "  \n",
    "# initializing string  \n",
    "test_str = \"Python\"\n",
    "  \n",
    "# printing original string  \n",
    "print(\"The original string is : \" + test_str) \n",
    "  \n",
    "# initializing K  \n",
    "K = 4\n",
    "  \n",
    "# Using join() + reversed() \n",
    "# Reverse Slicing string  \n",
    "res = ''.join(reversed(test_str[0:K])) \n",
    "  \n",
    "# printing result  \n",
    "print(\"The reversed sliced string is : \" + res) "
   ]
  }
 ],
 "metadata": {
  "kernelspec": {
   "display_name": "Python 3",
   "language": "python",
   "name": "python3"
  },
  "language_info": {
   "codemirror_mode": {
    "name": "ipython",
    "version": 3
   },
   "file_extension": ".py",
   "mimetype": "text/x-python",
   "name": "python",
   "nbconvert_exporter": "python",
   "pygments_lexer": "ipython3",
   "version": "3.7.6"
  }
 },
 "nbformat": 4,
 "nbformat_minor": 4
}
